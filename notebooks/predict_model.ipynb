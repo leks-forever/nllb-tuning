{
 "cells": [
  {
   "cell_type": "code",
   "execution_count": 1,
   "metadata": {},
   "outputs": [
    {
     "name": "stdout",
     "output_type": "stream",
     "text": [
      "/data/home/raki/raki-projects/nllb-tuning\n",
      "/data/home/raki/raki-projects/nllb-tuning\n"
     ]
    },
    {
     "name": "stderr",
     "output_type": "stream",
     "text": [
      "/home/raki/raki-projects/nllb-tuning/.venv/lib/python3.10/site-packages/tqdm/auto.py:21: TqdmWarning: IProgress not found. Please update jupyter and ipywidgets. See https://ipywidgets.readthedocs.io/en/stable/user_install.html\n",
      "  from .autonotebook import tqdm as notebook_tqdm\n"
     ]
    }
   ],
   "source": [
    "import os\n",
    "import sys\n",
    "\n",
    "if 'has_changed_dir' not in globals():\n",
    "    repo_path = os.path.abspath(os.path.join('..'))\n",
    "    \n",
    "    if repo_path not in sys.path:\n",
    "        sys.path.append(repo_path)\n",
    "    \n",
    "    os.chdir(repo_path)\n",
    "    \n",
    "    globals()['has_changed_dir'] = True\n",
    "    print(repo_path)\n",
    "    print(os.getcwd())\n",
    "\n",
    "\n",
    "# from typing import Optional, Union\n",
    "\n",
    "# import torch\n",
    "from transformers import AutoModelForSeq2SeqLM, NllbTokenizer\n",
    "\n",
    "from src.train_model import LightningModel\n",
    "\n",
    "\n"
   ]
  },
  {
   "cell_type": "markdown",
   "metadata": {},
   "source": [
    "### Load model using ckpt (you dont need it if you convert your model to transformers)"
   ]
  },
  {
   "cell_type": "code",
   "execution_count": 2,
   "metadata": {},
   "outputs": [],
   "source": [
    "# model_path: str = \"models/re-init/\"\n",
    "# tokenizer_path: str = \"models/re-init/\"\n",
    "# tokenizer_vocab_file_path: str = \"models/re-init/sentencepiece.bpe.model\"\n",
    "# ckpt_path: Optional[Union[str, None]] = \"models/it_1/epoch=17-val_loss=1.48184.ckpt\"\n",
    "\n",
    "# model = AutoModelForSeq2SeqLM.from_pretrained(model_path, local_files_only=True)\n",
    "# model.eval()\n",
    "# tokenizer = NllbTokenizer.from_pretrained(tokenizer_path, vocab_file = tokenizer_vocab_file_path)\n",
    "\n",
    "\n",
    "# # Option 1:\n",
    "# # model = LightningModel.load_from_checkpoint(ckpt_path, map_location=torch.device(\"cuda:1\"), model = model, tokenizer = tokenizer)\n",
    "\n",
    "# # Option 2:\n",
    "# ckpt = torch.load(ckpt_path, map_location=torch.device(\"cuda:1\"))\n",
    "# model = LightningModel(model, tokenizer)\n",
    "# model.load_state_dict(ckpt['state_dict'])\n"
   ]
  },
  {
   "cell_type": "markdown",
   "metadata": {},
   "source": [
    "### Load converted model"
   ]
  },
  {
   "cell_type": "code",
   "execution_count": 3,
   "metadata": {},
   "outputs": [],
   "source": [
    "final_model_path = \"models/final\"\n",
    "\n",
    "model = AutoModelForSeq2SeqLM.from_pretrained(final_model_path)\n",
    "tokenizer = NllbTokenizer.from_pretrained(final_model_path, vocab_file = final_model_path + \"/sentencepiece.bpe.model\")\n",
    "model = LightningModel(model, tokenizer)"
   ]
  },
  {
   "cell_type": "code",
   "execution_count": 4,
   "metadata": {},
   "outputs": [
    {
     "name": "stdout",
     "output_type": "stream",
     "text": [
      "['Иуда вместе с римским войском и другими посланными к нему царями священнослужителями пришли в сад. Они были вооружёны, в руках лампады и лампады.']\n"
     ]
    }
   ],
   "source": [
    "sentence: str = \"Римдин аскерар ва гьакӀни чӀехи хахамрини  фарисейри ракъурнавай нуькерар Ягьуд галаз багъдиз атана. Абурув виридав яракьар, чирагъар ва шемгьалар гвай.\"\n",
    "\n",
    "translation = model.predict(sentence, src_lang='lez_Cyrl', tgt_lang='rus_Cyrl')\n",
    "\n",
    "print(translation)"
   ]
  },
  {
   "cell_type": "code",
   "execution_count": 5,
   "metadata": {},
   "outputs": [
    {
     "name": "stdout",
     "output_type": "stream",
     "text": [
      "['И гафарин ван хьайила, Исади абуруз лагьана: - Жерягь сагъбуруз ваъ, начагъбуруз герек я.']\n"
     ]
    }
   ],
   "source": [
    "sentence: str = \"Когда Исо услышал это, Он сказал: – Не здоровым нужен врач, а больным.\"\n",
    "\n",
    "translation = model.predict(sentence, src_lang='rus_Cyrl' , tgt_lang='lez_Cyrl')\n",
    "\n",
    "print(translation)\n",
    "\n",
    "# Реальный перевод: И гафар ван хьайила, Исади абуруз лагьана: – Жерягь сагъбуруз ваъ, начагъбуруз герек я."
   ]
  },
  {
   "cell_type": "code",
   "execution_count": 8,
   "metadata": {},
   "outputs": [
    {
     "name": "stdout",
     "output_type": "stream",
     "text": [
      "['Ша чна са тӀуьнни тӀуьна, ахпа мад са тӀимил къекъуьн патал чара жен!']\n",
      "['Заз пакамахъ, хъсан гар алаз, сагъ-саламатдиз къекъвез кӀанзава.']\n",
      "['Чна йифиз килигай цӀийиди заз гзаф таъсир авуна.']\n",
      "['Зун къведай йисуз са шумуд уьлкведиз, абурун адетралди чир хьун патал, къвез кӀанзава.']\n",
      "['Гзаф кӀвалах авурдалай кьулухъ ктаб ва са гъам гваз ял акьадайвал хъсан я.']\n"
     ]
    }
   ],
   "source": [
    "\n",
    "\n",
    "sentences = [\n",
    "    \"Давай поедим пиццу, а потом еще немного погуляем!\",\n",
    "    \"Я люблю гулять по парку ранним утром, когда воздух свежий и тишина вокруг.\",\n",
    "    \"Новый фильм, который мы смотрели вчера, произвёл на меня сильное впечатление\",\n",
    "    \"В следующем году я планирую посетить несколько стран, чтобы познакомиться с их культурой.\",\n",
    "    \"После долгого рабочего дня приятно расслабиться с книгой и чашкой чая.\"\n",
    "]\n",
    "\n",
    "for sentence in sentences:\n",
    "    translation = model.predict(sentence, src_lang='rus_Cyrl' , tgt_lang='lez_Cyrl')\n",
    "\n",
    "    print(translation)\n"
   ]
  },
  {
   "cell_type": "code",
   "execution_count": 7,
   "metadata": {},
   "outputs": [],
   "source": [
    "sentences = [\n",
    "\n",
    "]\n",
    "\n",
    "for sentence in sentences:\n",
    "    translation = model.predict(sentence, src_lang='lez_Cyrl' , tgt_lang='rus_Cyrl')\n",
    "\n",
    "    print(translation)\n"
   ]
  }
 ],
 "metadata": {
  "kernelspec": {
   "display_name": ".venv",
   "language": "python",
   "name": "python3"
  },
  "language_info": {
   "codemirror_mode": {
    "name": "ipython",
    "version": 3
   },
   "file_extension": ".py",
   "mimetype": "text/x-python",
   "name": "python",
   "nbconvert_exporter": "python",
   "pygments_lexer": "ipython3",
   "version": "3.10.12"
  }
 },
 "nbformat": 4,
 "nbformat_minor": 2
}
