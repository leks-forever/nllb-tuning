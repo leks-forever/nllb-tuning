{
 "cells": [
  {
   "cell_type": "code",
   "execution_count": 1,
   "metadata": {},
   "outputs": [
    {
     "name": "stderr",
     "output_type": "stream",
     "text": [
      "/home/raki/raki-projects/nllb-tuning/.venv/lib/python3.10/site-packages/tqdm/auto.py:21: TqdmWarning: IProgress not found. Please update jupyter and ipywidgets. See https://ipywidgets.readthedocs.io/en/stable/user_install.html\n",
      "  from .autonotebook import tqdm as notebook_tqdm\n"
     ]
    },
    {
     "name": "stdout",
     "output_type": "stream",
     "text": [
      "/data/home/raki/raki-projects/nllb-tuning\n",
      "/data/home/raki/raki-projects/nllb-tuning\n"
     ]
    }
   ],
   "source": [
    "\n",
    "import os\n",
    "import sys\n",
    "from typing import Optional, Union\n",
    "\n",
    "import torch\n",
    "from transformers import AutoModelForSeq2SeqLM, NllbTokenizer\n",
    "\n",
    "from train_model import LightningModel\n",
    "\n",
    "if 'has_changed_dir' not in globals():\n",
    "    repo_path = os.path.abspath(os.path.join('.'))\n",
    "    \n",
    "    if repo_path not in sys.path:\n",
    "        sys.path.append(repo_path)\n",
    "    \n",
    "    os.chdir(repo_path)\n",
    "    \n",
    "    globals()['has_changed_dir'] = True\n",
    "    print(repo_path)\n",
    "\n",
    "print(os.getcwd())\n"
   ]
  },
  {
   "cell_type": "code",
   "execution_count": 6,
   "metadata": {},
   "outputs": [],
   "source": [
    "model_path: str = \"models/re-init/\"\n",
    "tokenizer_path: str = \"models/re-init/\"\n",
    "tokenizer_vocab_file_path: str = \"models/re-init/sentencepiece.bpe.model\"\n",
    "ckpt_path: Optional[Union[str, None]] = \"models/it_1/epoch=17-val_loss=1.48184.ckpt\"\n"
   ]
  },
  {
   "cell_type": "code",
   "execution_count": 7,
   "metadata": {},
   "outputs": [
    {
     "name": "stderr",
     "output_type": "stream",
     "text": [
      "/tmp/ipykernel_1691866/437571115.py:11: FutureWarning: You are using `torch.load` with `weights_only=False` (the current default value), which uses the default pickle module implicitly. It is possible to construct malicious pickle data which will execute arbitrary code during unpickling (See https://github.com/pytorch/pytorch/blob/main/SECURITY.md#untrusted-models for more details). In a future release, the default value for `weights_only` will be flipped to `True`. This limits the functions that could be executed during unpickling. Arbitrary objects will no longer be allowed to be loaded via this mode unless they are explicitly allowlisted by the user via `torch.serialization.add_safe_globals`. We recommend you start setting `weights_only=True` for any use case where you don't have full control of the loaded file. Please open an issue on GitHub for any issues related to this experimental feature.\n",
      "  ckpt = torch.load(ckpt_path, map_location=torch.device(\"cuda:1\"))\n"
     ]
    },
    {
     "data": {
      "text/plain": [
       "<All keys matched successfully>"
      ]
     },
     "execution_count": 7,
     "metadata": {},
     "output_type": "execute_result"
    }
   ],
   "source": [
    "model = AutoModelForSeq2SeqLM.from_pretrained(model_path, local_files_only=True)\n",
    "model.eval()\n",
    "tokenizer = NllbTokenizer.from_pretrained(tokenizer_path, vocab_file = tokenizer_vocab_file_path)\n",
    "\n",
    "# print(model)\n",
    "\n",
    "# GPU loading\n",
    "# model = LightningModel.load_from_checkpoint(ckpt_path)\n",
    "\n",
    "# Different device loading\n",
    "ckpt = torch.load(ckpt_path, map_location=torch.device(\"cuda:1\"))\n",
    "model = LightningModel(model, tokenizer)\n",
    "model.load_state_dict(ckpt['state_dict'])\n",
    "\n"
   ]
  },
  {
   "cell_type": "code",
   "execution_count": null,
   "metadata": {},
   "outputs": [],
   "source": [
    "sentence: str = \"Римдин аскерар ва гьакӀни чӀехи хахамрини  фарисейри ракъурнавай нуькерар Ягьуд галаз багъдиз атана. Абурув виридав яракьар, чирагъар ва шемгьалар гвай.\"\n",
    "\n",
    "translation = model.predict(sentence, src_lang='lez_Cyrl', tgt_lang='rus_Cyrl')\n",
    "\n",
    "print(translation)"
   ]
  },
  {
   "cell_type": "code",
   "execution_count": 9,
   "metadata": {},
   "outputs": [
    {
     "name": "stdout",
     "output_type": "stream",
     "text": [
      "['И гафарин ван хьайила, Исади абуруз лагьана: - Жерягь сагъбуруз ваъ, начагъбуруз герек я.']\n"
     ]
    }
   ],
   "source": [
    "sentence: str = \"Когда Исо услышал это, Он сказал: – Не здоровым нужен врач, а больным.\"\n",
    "\n",
    "translation = model.predict(sentence, src_lang='rus_Cyrl' , tgt_lang='lez_Cyrl')\n",
    "\n",
    "print(translation)\n",
    "\n",
    "# Реальный перевод: И гафар ван хьайила, Исади абуруз лагьана: – Жерягь сагъбуруз ваъ, начагъбуруз герек я."
   ]
  },
  {
   "cell_type": "code",
   "execution_count": 10,
   "metadata": {},
   "outputs": [
    {
     "name": "stdout",
     "output_type": "stream",
     "text": [
      "['Ша чна са тӀуьнни тӀуьна, ахпа мад са тӀимил къекъуьн патал чара жен!']\n",
      "['Заз пакамахъ, хъсан гар алаз, сагъ-саламатдиз къекъвез кӀанзава.']\n",
      "['Чна йифиз килигай цӀийиди заз гзаф таъсир авуна.']\n",
      "['Зун къведай йисуз са шумуд уьлкведиз, абурун адетралди чир хьун патал, къвез кӀанзава.']\n",
      "['Гзаф кӀвалах авурдалай кьулухъ ктаб ва са гъам гваз ял акьадайвал хъсан я.']\n"
     ]
    }
   ],
   "source": [
    "\n",
    "\n",
    "sentences = [\n",
    "    \"Давай поедим пиццу, а потом еще немного погуляем!\",\n",
    "    \"Я люблю гулять по парку ранним утром, когда воздух свежий и тишина вокруг.\",\n",
    "    \"Новый фильм, который мы смотрели вчера, произвёл на меня сильное впечатление\",\n",
    "    \"В следующем году я планирую посетить несколько стран, чтобы познакомиться с их культурой.\",\n",
    "    \"После долгого рабочего дня приятно расслабиться с книгой и чашкой чая.\"\n",
    "]\n",
    "\n",
    "for sentence in sentences:\n",
    "    translation = model.predict(sentence, src_lang='rus_Cyrl' , tgt_lang='lez_Cyrl')\n",
    "\n",
    "    print(translation)\n"
   ]
  },
  {
   "cell_type": "code",
   "execution_count": null,
   "metadata": {},
   "outputs": [],
   "source": [
    "sentences = [\n",
    "\n",
    "]\n",
    "\n",
    "for sentence in sentences:\n",
    "    translation = model.predict(sentence, src_lang='lez_Cyrl' , tgt_lang='rus_Cyrl')\n",
    "\n",
    "    print(translation)\n"
   ]
  }
 ],
 "metadata": {
  "kernelspec": {
   "display_name": ".venv",
   "language": "python",
   "name": "python3"
  },
  "language_info": {
   "codemirror_mode": {
    "name": "ipython",
    "version": 3
   },
   "file_extension": ".py",
   "mimetype": "text/x-python",
   "name": "python",
   "nbconvert_exporter": "python",
   "pygments_lexer": "ipython3",
   "version": "3.10.12"
  }
 },
 "nbformat": 4,
 "nbformat_minor": 2
}
