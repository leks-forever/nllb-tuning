{
 "cells": [
  {
   "cell_type": "code",
   "execution_count": 1,
   "metadata": {},
   "outputs": [
    {
     "name": "stdout",
     "output_type": "stream",
     "text": [
      "/data/home/raki/raki-projects/nllb-tuning\n",
      "/data/home/raki/raki-projects/nllb-tuning\n"
     ]
    },
    {
     "name": "stderr",
     "output_type": "stream",
     "text": [
      "/home/raki/raki-projects/nllb-tuning/.venv/lib/python3.10/site-packages/tqdm/auto.py:21: TqdmWarning: IProgress not found. Please update jupyter and ipywidgets. See https://ipywidgets.readthedocs.io/en/stable/user_install.html\n",
      "  from .autonotebook import tqdm as notebook_tqdm\n"
     ]
    }
   ],
   "source": [
    "import os\n",
    "import sys\n",
    "\n",
    "if 'has_changed_dir' not in globals():\n",
    "    repo_path = os.path.abspath(os.path.join('..'))\n",
    "    \n",
    "    if repo_path not in sys.path:\n",
    "        sys.path.append(repo_path)\n",
    "    \n",
    "    os.chdir(repo_path)\n",
    "    \n",
    "    globals()['has_changed_dir'] = True\n",
    "    print(repo_path)\n",
    "    print(os.getcwd())\n",
    "\n",
    "\n",
    "# from typing import Optional, Union\n",
    "\n",
    "# import torch\n",
    "from transformers import AutoModelForSeq2SeqLM, NllbTokenizer\n",
    "from huggingface_hub import notebook_login\n",
    "from src.train_model import LightningModel\n",
    "\n",
    "\n"
   ]
  },
  {
   "cell_type": "code",
   "execution_count": null,
   "metadata": {},
   "outputs": [],
   "source": [
    "notebook_login()"
   ]
  },
  {
   "cell_type": "code",
   "execution_count": 5,
   "metadata": {},
   "outputs": [],
   "source": [
    "final_model_path = \"models/final\"\n",
    "\n",
    "model = AutoModelForSeq2SeqLM.from_pretrained(final_model_path)\n",
    "tokenizer = NllbTokenizer.from_pretrained(final_model_path, vocab_file = final_model_path + \"/sentencepiece.bpe.model\")\n",
    "lightning_model = LightningModel(model, tokenizer)"
   ]
  },
  {
   "cell_type": "code",
   "execution_count": 6,
   "metadata": {},
   "outputs": [
    {
     "name": "stdout",
     "output_type": "stream",
     "text": [
      "['Иуда вместе с римским войском и другими посланными к нему царями священнослужителями пришли в сад. Они были вооружёны, в руках лампады и лампады.']\n"
     ]
    }
   ],
   "source": [
    "sentence: str = \"Римдин аскерар ва гьакӀни чӀехи хахамрини  фарисейри ракъурнавай нуькерар Ягьуд галаз багъдиз атана. Абурув виридав яракьар, чирагъар ва шемгьалар гвай.\"\n",
    "\n",
    "translation = lightning_model.predict(sentence, src_lang='lez_Cyrl', tgt_lang='rus_Cyrl')\n",
    "\n",
    "print(translation)"
   ]
  },
  {
   "cell_type": "code",
   "execution_count": 10,
   "metadata": {},
   "outputs": [
    {
     "name": "stderr",
     "output_type": "stream",
     "text": [
      "Some non-default generation parameters are set in the model config. These should go into a GenerationConfig file (https://huggingface.co/docs/transformers/generation_strategies#save-a-custom-decoding-strategy-with-your-model) instead. This warning will be raised to an exception in v4.41.\n",
      "Non-default generation parameters: {'max_length': 200}\n",
      "model.safetensors: 100%|██████████| 2.51G/2.51G [01:28<00:00, 28.4MB/s]  \n",
      "sentencepiece.bpe.model: 100%|██████████| 5.15M/5.15M [00:00<00:00, 10.6MB/s]\n"
     ]
    },
    {
     "data": {
      "text/plain": [
       "CommitInfo(commit_url='https://huggingface.co/leks-forever/nllb-200-distilled-600M/commit/ae10b6f479282253d9915de0706ffa45a031c451', commit_message='Upload tokenizer', commit_description='', oid='ae10b6f479282253d9915de0706ffa45a031c451', pr_url=None, repo_url=RepoUrl('https://huggingface.co/leks-forever/nllb-200-distilled-600M', endpoint='https://huggingface.co', repo_type='model', repo_id='leks-forever/nllb-200-distilled-600M'), pr_revision=None, pr_num=None)"
      ]
     },
     "execution_count": 10,
     "metadata": {},
     "output_type": "execute_result"
    }
   ],
   "source": [
    "YOUR_TOKEN = \"Your access token here\" # noqa: S105\n",
    "\n",
    "model.push_to_hub(\"leks-forever/nllb-200-distilled-600M\", token = YOUR_TOKEN)\n",
    "tokenizer.push_to_hub(\"leks-forever/nllb-200-distilled-600M\", token  = YOUR_TOKEN)"
   ]
  },
  {
   "cell_type": "code",
   "execution_count": 3,
   "metadata": {},
   "outputs": [],
   "source": [
    "model = AutoModelForSeq2SeqLM.from_pretrained(\"leks-forever/nllb-200-distilled-600M\")\n",
    "tokenizer = NllbTokenizer.from_pretrained(\"leks-forever/nllb-200-distilled-600M\")\n",
    "lightning_model = LightningModel(model, tokenizer)"
   ]
  },
  {
   "cell_type": "code",
   "execution_count": 4,
   "metadata": {},
   "outputs": [
    {
     "name": "stdout",
     "output_type": "stream",
     "text": [
      "['Иуда вместе с римским войском и другими посланными к нему царями священнослужителями пришли в сад. Они были вооружёны, в руках лампады и лампады.']\n"
     ]
    }
   ],
   "source": [
    "sentence: str = \"Римдин аскерар ва гьакӀни чӀехи хахамрини  фарисейри ракъурнавай нуькерар Ягьуд галаз багъдиз атана. Абурув виридав яракьар, чирагъар ва шемгьалар гвай.\"\n",
    "\n",
    "translation = lightning_model.predict(sentence, src_lang='lez_Cyrl', tgt_lang='rus_Cyrl')\n",
    "\n",
    "print(translation)"
   ]
  }
 ],
 "metadata": {
  "kernelspec": {
   "display_name": ".venv",
   "language": "python",
   "name": "python3"
  },
  "language_info": {
   "codemirror_mode": {
    "name": "ipython",
    "version": 3
   },
   "file_extension": ".py",
   "mimetype": "text/x-python",
   "name": "python",
   "nbconvert_exporter": "python",
   "pygments_lexer": "ipython3",
   "version": "3.10.12"
  }
 },
 "nbformat": 4,
 "nbformat_minor": 2
}
